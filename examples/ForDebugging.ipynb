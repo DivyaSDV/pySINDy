{
 "cells": [
  {
   "cell_type": "code",
   "execution_count": 1,
   "metadata": {},
   "outputs": [],
   "source": [
    "times=['0000','0010', '0020', '0030', '0040', '0050',\n",
    "          '0100', '0110', '0120', '0130', '0140', '0150',\n",
    "          '0200', '0210', '0220', '0230', '0240', '0250',\n",
    "          '0300', '0310', '0320', '0330', '0340', '0350',\n",
    "          '0400', '0410', '0420', '0430', '0440' ,'0450',\n",
    "          '0500', '0510', '0520', '0530', '0540', '0550',\n",
    "          \n",
    "          '0600', '0610', '0620', '0630', '0640', '0650',\n",
    "          '0700', '0710', '0720', '0730', '0740', '0750',\n",
    "          '0800', '0810', '0820', '0830', '0840', '0850',\n",
    "          '0900', '0910', '0920', '0930', '0940', '0950',\n",
    "          '1000', '1010', '1020', '1030', '1040', '1050',\n",
    "          '1100', '1110', '1120', '1130', '1140', '1150',\n",
    "          '1200', '1210', '1220', '1230', '1240', '1250',\n",
    "          \n",
    "          \n",
    "          '1300', '1310', '1320', '1330', '1340', '1350',\n",
    "          '1400', '1410', '1420', '1430', '1440', '1450',\n",
    "          '1500', '1510', '1520', '1530', '1540', '1550',\n",
    "          '1600', '1610', '1620', '1630', '1640', '1650',\n",
    "          '1700', '1710', '1720', '1730', '1740', '1750',\n",
    "          '1800', '1810', '1820', '1830', '1840', '1850',\n",
    "          \n",
    "          '1900', '1910', '1920', '1930', '1940', '1950',\n",
    "          '2000', '2010', '2020', '2030', '2040', '2050',\n",
    "          '2100', '2110', '2120', '2130', '2140', '2150',\n",
    "          '2200', '2210', '2220', '2230', '2240', '2250',\n",
    "          '2300', '2310', '2320', '2330', '2340', '2350']"
   ]
  },
  {
   "cell_type": "code",
   "execution_count": 15,
   "metadata": {},
   "outputs": [],
   "source": [
    "import time\n",
    "import numpy as np\n",
    "import os"
   ]
  },
  {
   "cell_type": "code",
   "execution_count": 16,
   "metadata": {},
   "outputs": [
    {
     "name": "stdout",
     "output_type": "stream",
     "text": [
      "['0110', '0120', '0130', '0140', '0150', '0200', '0210', '0220', '0230', '0240']\n",
      "/home/divya/divya/OneFullDayData_7TestCases_WNIMar5/20190908_set_24hr_uv\n"
     ]
    }
   ],
   "source": [
    "\n",
    "startframetime = \"002500\"\n",
    "pred_time = '0250'\n",
    "index = times.index(pred_time)\n",
    "prev_frametimes = times[index-10:index]\n",
    "print(prev_frametimes)\n",
    "\n",
    "#Input Path##\n",
    "pred_date = 20190908 #YYYYMMDD\n",
    "# pred_time = '0220' #HHMM \n",
    "[height, width] = [781,561]\n",
    "inputfolder = str(pred_date)+\"_set_24hr_uv\"\n",
    "inputpath = \"/home/divya/divya/OneFullDayData_7TestCases_WNIMar5/%s\"%inputfolder\n",
    "print (inputpath)\n",
    "startframetime = \"002500\"\n"
   ]
  },
  {
   "cell_type": "code",
   "execution_count": 23,
   "metadata": {},
   "outputs": [],
   "source": [
    "def loadUV(loadpath,startframetime,height,width):\n",
    "    \n",
    "    pred_time = '0250'\n",
    "    index = times.index(pred_time)\n",
    "    prev_frametimes = times[index-10:index]\n",
    "    print(prev_frametimes)\n",
    "    \n",
    "    \n",
    "    \n",
    "    start_load = time.time()\n",
    "    U_mat=np.zeros((height,width))\n",
    "    V_mat=np.zeros((height,width))\n",
    "    print(\"\\n--- Loading UV-Data.. ---\\n\")\n",
    "    files = (os.listdir(loadpath))\n",
    "    files.sort()\n",
    "    framecount = 0\n",
    "    \n",
    "    position = 0\n",
    "    count = 0\n",
    "    data = np.zeros((2*height,width), dtype='float32')\n",
    "    u = np.zeros((height,width), dtype='float32')\n",
    "    v = np.zeros((height,width), dtype='float32')\n",
    "  \n",
    "    for previndex in range(len(prev_frametimes)):\n",
    "        searchpattern = \"_\" + prev_frametimes[previndex] +\"00_\"\n",
    "        for filename in files:\n",
    "            if searchpattern in filename:\n",
    "                inputFileName =loadpath+'/'+filename\n",
    "                print(searchpattern)\n",
    "                fd = open(inputFileName,'rb')\n",
    "                fd.seek(position,0)\n",
    "                # straight to numpy data (no buffering) \n",
    "                data = 0.0\n",
    "                u = 0.0\n",
    "                v = 0.0\n",
    "                data = np.fromfile(fd, dtype = np.dtype('float32'), count = 2*height*width)\n",
    "                data = np.reshape(data,(2*height,width))\n",
    "                data = data.astype('float32') \n",
    "                #print(np.dtype(data))\n",
    "                print(data.shape)\n",
    "                u = data[0:height,0:width]\n",
    "                v = data[height:,0:width]\n",
    "                fd.close()\n",
    "                U_mat = np.dstack([U_mat,u])\n",
    "                V_mat = np.dstack([V_mat,v])\n",
    "    print(\"\\n--- Load complete.. Time: %s seconds ---\\n\" %(time.time() - start_load))\n",
    "    \n",
    "    return U_mat, V_mat\n"
   ]
  },
  {
   "cell_type": "code",
   "execution_count": 24,
   "metadata": {},
   "outputs": [
    {
     "name": "stdout",
     "output_type": "stream",
     "text": [
      "['0110', '0120', '0130', '0140', '0150', '0200', '0210', '0220', '0230', '0240']\n",
      "\n",
      "--- Loading UV-Data.. ---\n",
      "\n",
      "_011000_\n",
      "(1562, 561)\n",
      "_012000_\n",
      "(1562, 561)\n",
      "_013000_\n",
      "(1562, 561)\n",
      "_014000_\n",
      "(1562, 561)\n",
      "_015000_\n",
      "(1562, 561)\n",
      "_020000_\n",
      "(1562, 561)\n",
      "_021000_\n",
      "(1562, 561)\n",
      "_022000_\n",
      "(1562, 561)\n",
      "_023000_\n",
      "(1562, 561)\n",
      "_024000_\n",
      "(1562, 561)\n",
      "\n",
      "--- Load complete.. Time: 0.2257397174835205 seconds ---\n",
      "\n",
      "size of U =  (781, 561, 11)\n",
      "size of V =  (781, 561, 11)\n"
     ]
    }
   ],
   "source": [
    "U,V = loadUV(inputpath,startframetime,height,width)\n",
    "print(\"size of U = \", U.shape)\n",
    "print(\"size of V = \", V.shape)"
   ]
  },
  {
   "cell_type": "code",
   "execution_count": 22,
   "metadata": {},
   "outputs": [
    {
     "data": {
      "text/plain": [
       "10"
      ]
     },
     "execution_count": 22,
     "metadata": {},
     "output_type": "execute_result"
    }
   ],
   "source": [
    "len(prev_frametimes)"
   ]
  },
  {
   "cell_type": "code",
   "execution_count": null,
   "metadata": {},
   "outputs": [],
   "source": []
  }
 ],
 "metadata": {
  "kernelspec": {
   "display_name": "Python 3",
   "language": "python",
   "name": "python3"
  },
  "language_info": {
   "codemirror_mode": {
    "name": "ipython",
    "version": 3
   },
   "file_extension": ".py",
   "mimetype": "text/x-python",
   "name": "python",
   "nbconvert_exporter": "python",
   "pygments_lexer": "ipython3",
   "version": "3.8.2"
  }
 },
 "nbformat": 4,
 "nbformat_minor": 4
}
