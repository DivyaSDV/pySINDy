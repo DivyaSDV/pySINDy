{
 "cells": [
  {
   "cell_type": "code",
   "execution_count": 46,
   "metadata": {},
   "outputs": [],
   "source": [
    "import numpy as np\n",
    "import pandas as pd\n",
    "import time\n",
    "\n",
    "pred_date = 20190908"
   ]
  },
  {
   "cell_type": "markdown",
   "metadata": {},
   "source": [
    "pred_date = 20190908\n",
    "pred_times = [1900,1910,1920,1930,1940,1950,2000,2010,2020,2030,2040]\n",
    "file_dim = [781,561]"
   ]
  },
  {
   "cell_type": "markdown",
   "metadata": {},
   "source": [
    "### Full Function"
   ]
  },
  {
   "cell_type": "markdown",
   "metadata": {},
   "source": [
    "U_mat=np.zeros(file_dim)\n",
    "V_mat=np.zeros(file_dim)\n",
    "print(\"\\nLoading UV-Data..\\n\")\n",
    "\n",
    "for i in range (len(pred_times)-1):\n",
    "    \n",
    "    Uname = \"Datasets/%i/%i_%i00_%i_%i00_u.csv\"%(pred_date,pred_date,pred_times[i],pred_date,pred_times[i+1])\n",
    "    #print(Uname)\n",
    "    ru = pd.read_csv(Uname, sep=',', header=None)\n",
    "    temp = ru.values\n",
    "    U_mat = np.dstack([U_mat,temp])\n",
    "    \n",
    "    Vname = \"Datasets/%i/%i_%i00_%i_%i00_v.csv\"%(pred_date,pred_date,pred_times[i],pred_date,pred_times[i+1])\n",
    "    #print(Vname)\n",
    "    rv = pd.read_csv(Vname, sep=',', header=None)\n",
    "    temp = rv.values\n",
    "    V_mat = np.dstack([V_mat,temp])\n"
   ]
  },
  {
   "cell_type": "markdown",
   "metadata": {},
   "source": [
    "### Abbreviated Function"
   ]
  },
  {
   "cell_type": "markdown",
   "metadata": {},
   "source": [
    "U_mat=np.zeros(file_dim)\n",
    "V_mat=np.zeros(file_dim)\n",
    "print(\"\\nLoading UV-Data..\\n\")\n",
    "for i in range (len(pred_times)-1):\n",
    "    \n",
    "    U_mat = np.dstack([U_mat,pd.read_csv(\"Datasets/%i/%i_%i00_%i_%i00_u.csv\"%(pred_date,pred_date,pred_times[i],pred_date,pred_times[i+1]),sep=',',header=None).values])\n",
    "    V_mat = np.dstack([V_mat,pd.read_csv(\"Datasets/%i/%i_%i00_%i_%i00_v.csv\"%(pred_date,pred_date,pred_times[i],pred_date,pred_times[i+1]),sep=',',header=None).values])\n",
    "    "
   ]
  },
  {
   "cell_type": "code",
   "execution_count": 2,
   "metadata": {},
   "outputs": [],
   "source": [
    "times=[['0000','0100','0200','0300','0400','0500','0600','0700','0800','0900','1000','1100','1200','1300','1400','1500','1600','1700','1800','1900','2000','2100','2200','2300'],\n",
    "['0010','0110','0210','0310','0410','0510','0610','0710','0810','0910','1010','1110','1210','1310','1410','1510','1610','1710','1810','1910','2010','2110','2210','2310'],\n",
    "['0020','0120','0220','0320','0420','0520','0620','0720','0820','0920','1020','1120','1220','1320','1420','1520','1620','1720','1820','1920','2020','2120','2220','2320'],\n",
    "['0030','0130','0230','0330','0430','0530','0630','0730','0830','0930','1030','1130','1230','1330','1430','1530','1630','1730','1830','1930','2030','2130','2230','2330'],\n",
    "['0040','0140','0240','0340','0440','0540','0640','0740','0840','0940','1040','1140','1240','1340','1440','1540','1640','1740','1840','1940','2040','2140','2240','2340'],\n",
    "['0050','0150','0250','0350','0450','0550','0650','0750','0850','0950','1050','1150','1250','1350','1450','1550','1650','1750','1850','1950','2050','2150','2250','2350']]\n",
    "\n",
    "times=np.array(times)"
   ]
  },
  {
   "cell_type": "code",
   "execution_count": 8,
   "metadata": {},
   "outputs": [
    {
     "data": {
      "text/plain": [
       "array(['0050', '0150', '0250', '0350', '0450', '0550', '0650', '0750',\n",
       "       '0850', '0950', '1050', '1150', '1250', '1350', '1450', '1550',\n",
       "       '1650', '1750', '1850', '1950', '2050', '2150', '2250', '2350'],\n",
       "      dtype='<U4')"
      ]
     },
     "execution_count": 8,
     "metadata": {},
     "output_type": "execute_result"
    }
   ],
   "source": [
    "times[5,:]"
   ]
  },
  {
   "cell_type": "raw",
   "metadata": {},
   "source": [
    "times=[['0000','0100','0200','0300','0400','0500','0600','0700','0800','0900','1000','1100','1200','1300','1400','1500','1600','1700','1800','1900','2000','2100','2200','2300'],\n",
    "['0010','0110','0210','0310','0410','0510','0610','0710','0810','0910','1010','1110','1210','1310','1410','1510','1610','1710','1810','1910','2010','2110','2210','2310'],\n",
    "['0020','0120','0220','0320','0420','0520','0620','0720','0820','0920','1020','1120','1220','1320','1420','1520','1620','1720','1820','1920','2020','2120','2220','2320'],\n",
    "['0030','0130','0230','0330','0430','0530','0630','0730','0830','0930','1030','1130','1230','1330','1430','1530','1630','1730','1830','1930','2030','2130','2230','2330'],\n",
    "['0040','0140','0240','0340','0440','0540','0640','0740','0840','0940','1040','1140','1240','1340','1440','1540','1640','1740','1840','1940','2040','2140','2240','2340'],\n",
    "['0050','0150','0250','0350','0450','0550','0650','0750','0850','0950','1050','1150','1250','1350','1450','1550','1650','1750','1850','1950','2050','2150','2250','2350']]\n",
    "\n",
    "times=np.array(times)\n",
    "\n",
    "pred_time='0950'\n",
    "train_size=10\n",
    "for i in range(24):\n",
    "    #print(times[5,i-1])\n",
    "    if pred_time==times[5,i-1]:\n",
    "        pred_times=np.hstack([times[:,i],times[:,i+1],times[:,i+2]]) #next 18 frames\n",
    "        print(\"PredTimes:\",pred_times)\n",
    "        inp_times=np.hstack([times[:,i-2],times[:,i-1]]) #prev $train_size frames\n",
    "        print(\"InpTimes:\",inp_times[-1*(train_size+1):])"
   ]
  },
  {
   "cell_type": "code",
   "execution_count": 47,
   "metadata": {},
   "outputs": [],
   "source": [
    "fnames = ['201605291725_88_201605291735_90','201605291825_100_201605291835_102',\n",
    "'201605291735_90_201605291745_92','201605291835_102_201605291845_104',\n",
    "'201605291745_92_201605291755_94','201605291845_104_201605291855_106',\n",
    "'201605291755_94_201605291805_96','201605291855_106_201605291905_108',\n",
    "'201605291805_96_201605291815_98','201605291905_108_201605291915_110',\n",
    "'201605291815_98_201605291825_100']\n",
    "fnames.sort()"
   ]
  },
  {
   "cell_type": "code",
   "execution_count": 48,
   "metadata": {},
   "outputs": [
    {
     "name": "stdout",
     "output_type": "stream",
     "text": [
      "\n",
      "--- Loading UV-Data.. ---\n",
      "\n",
      "201605291725_88_201605291735_90\n",
      "201605291735_90_201605291745_92\n",
      "201605291745_92_201605291755_94\n",
      "201605291755_94_201605291805_96\n",
      "201605291805_96_201605291815_98\n",
      "201605291815_98_201605291825_100\n",
      "201605291825_100_201605291835_102\n",
      "201605291835_102_201605291845_104\n",
      "201605291845_104_201605291855_106\n",
      "201605291855_106_201605291905_108\n",
      "\n",
      "--- Load complete.. Time: 6.426360130310059 seconds ---\n",
      "\n"
     ]
    }
   ],
   "source": [
    "\n",
    "train_size = 10\n",
    "file_dim = [900,900]\n",
    "loadpath = '../../../Datasets/sindy/For29052016_1915'\n",
    "U,V =loadUV(loadpath)\n"
   ]
  },
  {
   "cell_type": "code",
   "execution_count": 59,
   "metadata": {},
   "outputs": [
    {
     "name": "stdout",
     "output_type": "stream",
     "text": [
      "False\n",
      "False\n"
     ]
    }
   ],
   "source": [
    "print(np.isnan(U).any())\n",
    "print(np.isnan(V).any())"
   ]
  }
 ],
 "metadata": {
  "kernelspec": {
   "display_name": "Python 3",
   "language": "python",
   "name": "python3"
  },
  "language_info": {
   "codemirror_mode": {
    "name": "ipython",
    "version": 3
   },
   "file_extension": ".py",
   "mimetype": "text/x-python",
   "name": "python",
   "nbconvert_exporter": "python",
   "pygments_lexer": "ipython3",
   "version": "3.6.10"
  }
 },
 "nbformat": 4,
 "nbformat_minor": 2
}
