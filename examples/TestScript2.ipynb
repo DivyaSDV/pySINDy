{
 "cells": [
  {
   "cell_type": "code",
   "execution_count": 1,
   "metadata": {
    "scrolled": true
   },
   "outputs": [],
   "source": [
    "import os\n",
    "import sys\n",
    "module_path = os.path.abspath(os.path.join('..'))\n",
    "if module_path not in sys.path:\n",
    "    sys.path.append(module_path)\n",
    "import time\n",
    "import cv2\n",
    "\n",
    "from pySINDy.sindypde import SINDyPDE\n",
    "from pySINDy import SINDy\n",
    "from pySINDy.sindybase import SINDyBase\n",
    "from pySINDy.sindylibr import SINDyLibr\n",
    "import numpy as np\n",
    "import matplotlib.pyplot as plt\n",
    "import pandas as pd\n",
    "\n",
    "def plotUV(Un, Vn, du_dt, dv_dt,x):\n",
    "\n",
    "    ##--SAMPLING--##\n",
    "    s=[78,56]\n",
    "    U_ds=np.zeros(s)\n",
    "    V_ds=np.zeros(s)\n",
    "    d_u=np.zeros(s)\n",
    "    d_v=np.zeros(s)\n",
    "    for i in range(1,s[0]):\n",
    "        for j in range(1,s[1]):\n",
    "            U_ds[i,j]=Un[10*i,10*j]\n",
    "            V_ds[i,j]=Vn[10*i,10*j]\n",
    "            d_u[i,j]=np.reshape(du_dt,file_dim)[10*i,10*j]\n",
    "            d_v[i,j]=np.reshape(dv_dt,file_dim)[10*i,10*j]\n",
    "\n",
    "    fig, ax = plt.subplots(figsize=(s[1],s[0]))\n",
    "\n",
    "    x_pos = np.arange(0,s[1],1)\n",
    "    y_pos = np.arange(0,s[0],1)\n",
    "\n",
    "\n",
    "    ax.quiver(x_pos,y_pos, U_ds[:,:], V_ds[:,:], width=0.001)\n",
    "    ax.set_title('Plotting motion vectors')\n",
    "    #plt.show()\n",
    "    U_ds+=10*d_u\n",
    "    V_ds+=10*d_v\n",
    "    fig, ax = plt.subplots(figsize=(s[1],s[0]))\n",
    "\n",
    "    x_pos = np.arange(0,s[1],1)\n",
    "    y_pos = np.arange(0,s[0],1)\n",
    "    ax.quiver(x_pos,y_pos, U_ds[:,:], V_ds[:,:], width=0.0005)\n",
    "    ax.set_title('Plotting motion vectors')\n",
    "    filename=\"%s/%i_%i_Im%i.png\"%(savepath,pred_date,pred_times[x],x)\n",
    "    plt.savefig(filename)\n",
    "    plt.close()\n",
    "\n",
    "def trainSINDy(U,V,dx,dy,dt):\n",
    "\n",
    "    \n",
    "    model = SINDyPDE(name='SINDyPDE model for Reaction-Diffusion Eqn')\n",
    "    \n",
    "    start_train=time.time()\n",
    "    #model.fit(self, data, poly_degree=2, cut_off=1e-3)\n",
    "    model.fit({'u': U[:,:,-1*train_size:], 'v': V[:,:,-1*train_size:]}, dt, [dx, dy], space_deriv_order=2, poly_degree=2, sample_rate=0.01, cut_off=0.01, deriv_acc=2)\n",
    "\n",
    "    print(\"\\n--- Train time %s seconds ---\\n\" %(time.time() - start_train))\n",
    "\n",
    "    #print(\"\\n--- Active terms ---\\n\" )\n",
    "    size=np.shape(model.coefficients)\n",
    "    cnt=0\n",
    "    for i in range(size[0]):\n",
    "        for j in range(size[1]):\n",
    "            if (model.coefficients[i,j])!=0:\n",
    "                #print(model.coefficients[i,j],\"--\",model.descriptions[i])\n",
    "                cnt+=1\n",
    "    print(\"Train Success..\")\n",
    "    print(\"--- Active terms %s ---\\n\" %cnt)\n",
    "    return U, V, model.coefficients\n",
    "\n",
    "def testSINDy(U,V,dx,dy,dt,coeff,x):\n",
    "\n",
    "    \n",
    "    model2 = SINDyLibr(name='Derived module from sindybase.py for libr computation')\n",
    "    libx=model2.libr({'u': U[:,:,-1*train_size:], 'v': V[:,:,-1*train_size:]}, dt, [dx,dy], space_deriv_order=2, poly_degree=2, sample_rate=0.01, cut_off=0.01, deriv_acc=2)\n",
    "\n",
    "    duv_dt=np.matmul(libx,coeff)\n",
    "\n",
    "    du_dt=duv_dt[:,0]\n",
    "    dv_dt=duv_dt[:,1]\n",
    "\n",
    "    U_nxt=np.reshape(U,file_dim)+np.reshape(du_dt,file_dim)\n",
    "    V_nxt=np.reshape(V,file_dim)+np.reshape(dv_dt,file_dim)\n",
    "    \n",
    "    Uname=\"%s/%i_U%i.csv\"%(savepath,pred_date,x)\n",
    "    Vname=\"%s/%i_V%i.csv\"%(savepath,pred_date,x)\n",
    "    np.savetxt(Uname,np.reshape(U,file_dim),delimiter=',')\n",
    "    np.savetxt(Vname,np.reshape(V,file_dim),delimiter=',')\n",
    "    print(\"Test Success..\")\n",
    "    #plotUV(U_nxt,V_nxt,du_dt,dv_dt,x)\n",
    "\n",
    "    return U_nxt, V_nxt\n",
    "\n",
    "def loadUV(loadpath):\n",
    "    start_load = time.time()\n",
    "    U_mat=np.zeros(file_dim)\n",
    "    V_mat=np.zeros(file_dim)\n",
    "    print(\"\\n--- Loading UV-Data.. ---\\n\")\n",
    "    for i in range (len(inp_times)-1):\n",
    "            #print(\"%i_%i00_%i_%i00_u.csv\"%(pred_date,pred_times[i],pred_date,pred_times[i+1]))\n",
    "            #print(\"%i_%i00_%i_%i00_v.csv\"%(pred_date,pred_times[i],pred_date,pred_times[i+1]))\n",
    "            U_mat = np.dstack([U_mat,pd.read_csv(\"%s/%i_%s_%i_%s_u.csv\"%(loadpath,fnames[i]),sep=',',header=None).values])\n",
    "            V_mat = np.dstack([V_mat,pd.read_csv(\"%s/%i_%s_%i_%s_v.csv\"%(loadpath,pred_date,inp_times[i],pred_date,inp_times[i+1]),sep=',',header=None).values])\n",
    "            \n",
    "    print(\"\\n--- Load complete.. Time: %s seconds ---\\n\" %(time.time() - start_load))\n",
    "    \n",
    "    return U_mat[:,:,-1*train_size:], V_mat[:,:,-1*train_size:]\n",
    "\n",
    "def loadUV_a(loadpath):\n",
    "    start_load = time.time()\n",
    "    U_mat=np.zeros(file_dim)\n",
    "    V_mat=np.zeros(file_dim)\n",
    "    print(\"\\n--- Loading UV-Data.. ---\\n\")\n",
    "    for i in range (len(fnames)-1):\n",
    "            print(fnames[i])\n",
    "            U_mat = np.dstack([U_mat,pd.read_csv(\"%s/%s_u.csv\"%(loadpath,fnames[i]),sep=',',header=None).values])\n",
    "            V_mat = np.dstack([V_mat,pd.read_csv(\"%s/%s_v.csv\"%(loadpath,fnames[i]),sep=',',header=None).values])\n",
    "    print(\"\\n--- Load complete.. Time: %s seconds ---\\n\" %(time.time() - start_load))\n",
    "    \n",
    "    return U_mat[:,:,-1*train_size:], V_mat[:,:,-1*train_size:]\n",
    "\n",
    "def gettimes(pred_time):\n",
    "\n",
    "    times=[['0000','0100','0200','0300','0400','0500','0600','0700','0800','0900','1000','1100','1200','1300','1400','1500','1600','1700','1800','1900','2000','2100','2200','2300'],\n",
    "    ['0010','0110','0210','0310','0410','0510','0610','0710','0810','0910','1010','1110','1210','1310','1410','1510','1610','1710','1810','1910','2010','2110','2210','2310'],\n",
    "    ['0020','0120','0220','0320','0420','0520','0620','0720','0820','0920','1020','1120','1220','1320','1420','1520','1620','1720','1820','1920','2020','2120','2220','2320'],\n",
    "    ['0030','0130','0230','0330','0430','0530','0630','0730','0830','0930','1030','1130','1230','1330','1430','1530','1630','1730','1830','1930','2030','2130','2230','2330'],\n",
    "    ['0040','0140','0240','0340','0440','0540','0640','0740','0840','0940','1040','1140','1240','1340','1440','1540','1640','1740','1840','1940','2040','2140','2240','2340'],\n",
    "    ['0050','0150','0250','0350','0450','0550','0650','0750','0850','0950','1050','1150','1250','1350','1450','1550','1650','1750','1850','1950','2050','2150','2250','2350']]\n",
    "\n",
    "    times=np.array(times)\n",
    "\n",
    "    for i in range(24):\n",
    "        #print(times[5,i-1])\n",
    "        if pred_time==times[5,i-1]:\n",
    "\n",
    "            pred_times=np.hstack([times[:,i],times[:,i+1],times[:,i+2]]) #next 18 frames\n",
    "            #print(\"PredTimes:\",pred_times)\n",
    "            inp_times=np.hstack([times[:,i-2],times[:,i-1]]) #prev $train_size frames\n",
    "            #print(\"InpTimes:\",inp_times[-1*(train_size+1):])\n",
    "            inp_times=inp_times[-1*(train_size+1):]\n",
    "            #print(\"Get Time Success..\")\n",
    "    return inp_times, pred_times\n"
   ]
  },
  {
   "cell_type": "code",
   "execution_count": 2,
   "metadata": {
    "scrolled": false
   },
   "outputs": [
    {
     "name": "stdout",
     "output_type": "stream",
     "text": [
      "\n",
      "--- Loading UV-Data.. ---\n",
      "\n",
      "201605291725_88_201605291735_90\n",
      "201605291735_90_201605291745_92\n",
      "201605291745_92_201605291755_94\n",
      "201605291755_94_201605291805_96\n",
      "201605291805_96_201605291815_98\n",
      "201605291815_98_201605291825_100\n",
      "201605291825_100_201605291835_102\n",
      "201605291835_102_201605291845_104\n",
      "201605291845_104_201605291855_106\n",
      "201605291855_106_201605291905_108\n",
      "\n",
      "--- Load complete.. Time: 4.361156940460205 seconds ---\n",
      "\n"
     ]
    }
   ],
   "source": [
    "fnames = ['201605291725_88_201605291735_90','201605291825_100_201605291835_102',\n",
    "'201605291735_90_201605291745_92','201605291835_102_201605291845_104',\n",
    "'201605291745_92_201605291755_94','201605291845_104_201605291855_106',\n",
    "'201605291755_94_201605291805_96','201605291855_106_201605291905_108',\n",
    "'201605291805_96_201605291815_98','201605291905_108_201605291915_110',\n",
    "'201605291815_98_201605291825_100']\n",
    "fnames.sort()\n",
    "\n",
    "\n",
    "##Data Params##\n",
    "pred_date = 20160529 #YYYYMMDD\n",
    "#pred_time = '1915' #HHMM(HH50) \n",
    "file_dim = [900,900]\n",
    "train_size = 10\n",
    "\n",
    "start_prog=time.time() #tic\n",
    "#inp_times, pred_times = gettimes(pred_time)\n",
    "\n",
    "##I/O Paths##\n",
    "loadpath = '../../../Datasets/sindy/For29052016_1915'\n",
    "savepath = \"Outputs/%i\"%(pred_date)\n",
    "os.makedirs(savepath, exist_ok=True)\n",
    "\n",
    "U,V = loadUV_a(loadpath)\n",
    "\n"
   ]
  },
  {
   "cell_type": "code",
   "execution_count": 3,
   "metadata": {},
   "outputs": [
    {
     "data": {
      "text/plain": [
       "(900, 900, 10)"
      ]
     },
     "execution_count": 3,
     "metadata": {},
     "output_type": "execute_result"
    }
   ],
   "source": [
    "np.shape(U)"
   ]
  },
  {
   "cell_type": "code",
   "execution_count": 4,
   "metadata": {},
   "outputs": [
    {
     "data": {
      "text/plain": [
       "(900, 900, 10)"
      ]
     },
     "execution_count": 4,
     "metadata": {},
     "output_type": "execute_result"
    }
   ],
   "source": [
    "np.shape(V)"
   ]
  },
  {
   "cell_type": "code",
   "execution_count": 5,
   "metadata": {},
   "outputs": [
    {
     "data": {
      "text/plain": [
       "False"
      ]
     },
     "execution_count": 5,
     "metadata": {},
     "output_type": "execute_result"
    }
   ],
   "source": [
    "np.isnan(U).any()"
   ]
  },
  {
   "cell_type": "code",
   "execution_count": 6,
   "metadata": {},
   "outputs": [
    {
     "data": {
      "text/plain": [
       "False"
      ]
     },
     "execution_count": 6,
     "metadata": {},
     "output_type": "execute_result"
    }
   ],
   "source": [
    "np.isnan(V).any()"
   ]
  },
  {
   "cell_type": "code",
   "execution_count": null,
   "metadata": {},
   "outputs": [],
   "source": [
    "#Spatio-temporal resolution\n",
    "x_step = 1\n",
    "y_step = 1\n",
    "t_step = 10.0\n",
    "\n",
    "for i in range(18):\n",
    "    print(\"\\n--- Sequence %i ---\\n\" %i)\n",
    "    #if(i==0):\n",
    "    U, V, coeff = trainSINDy(U,V,x_step,y_step,t_step)\n",
    "    U_nxt, V_nxt = testSINDy(U[:,:,-1:],V[:,:,-1:],x_step,y_step,t_step, coeff, i)\n",
    "    U=np.dstack([U,U_nxt])\n",
    "    V=np.dstack([V,V_nxt])\n",
    "    \n",
    "print(\"\\n--- Exec time %s seconds ---\\n\" %(time.time() - start_prog)) #tac\n",
    "print(\"SINDy complete. Files saved to %s\" %(savepath))\n"
   ]
  }
 ],
 "metadata": {
  "kernelspec": {
   "display_name": "Python 3",
   "language": "python",
   "name": "python3"
  },
  "language_info": {
   "codemirror_mode": {
    "name": "ipython",
    "version": 3
   },
   "file_extension": ".py",
   "mimetype": "text/x-python",
   "name": "python",
   "nbconvert_exporter": "python",
   "pygments_lexer": "ipython3",
   "version": "3.6.10"
  }
 },
 "nbformat": 4,
 "nbformat_minor": 4
}
